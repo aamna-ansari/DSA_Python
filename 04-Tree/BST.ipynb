{
 "cells": [
  {
   "cell_type": "code",
   "execution_count": null,
   "metadata": {},
   "outputs": [],
   "source": [
    "# Create a Node\n",
    "class Node:\n",
    "    def __init__(self, value):\n",
    "         self.value = value\n",
    "         self.left = None\n",
    "         self.right = None\n",
    "# Constructor\n",
    "class BST:\n",
    "     def __init__(self):\n",
    "          self.root = None\n"
   ]
  }
 ],
 "metadata": {
  "language_info": {
   "name": "python"
  }
 },
 "nbformat": 4,
 "nbformat_minor": 2
}
