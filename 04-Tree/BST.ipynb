{
 "cells": [
  {
   "cell_type": "code",
   "execution_count": null,
   "metadata": {},
   "outputs": [],
   "source": [
    "# Create a Node\n",
    "class Node:\n",
    "    def __init__(self, value):\n",
    "         self.value = value\n",
    "         self.left = None\n",
    "         self.right = None"
   ]
  }
 ],
 "metadata": {
  "language_info": {
   "name": "python"
  }
 },
 "nbformat": 4,
 "nbformat_minor": 2
}
