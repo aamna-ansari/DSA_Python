{
 "cells": [
  {
   "cell_type": "code",
   "execution_count": 2,
   "metadata": {},
   "outputs": [
    {
     "ename": "AttributeError",
     "evalue": "'BST' object has no attribute 'insert'",
     "output_type": "error",
     "traceback": [
      "\u001b[1;31m---------------------------------------------------------------------------\u001b[0m",
      "\u001b[1;31mAttributeError\u001b[0m                            Traceback (most recent call last)",
      "Cell \u001b[1;32mIn[2], line 39\u001b[0m\n\u001b[0;32m     32\u001b[0m                temp \u001b[38;5;241m=\u001b[39m temp\u001b[38;5;241m.\u001b[39mright\n\u001b[0;32m     38\u001b[0m my_BST  \u001b[38;5;241m=\u001b[39m BST()\n\u001b[1;32m---> 39\u001b[0m \u001b[43mmy_BST\u001b[49m\u001b[38;5;241;43m.\u001b[39;49m\u001b[43minsert\u001b[49m(\u001b[38;5;241m2\u001b[39m)\n\u001b[0;32m     40\u001b[0m my_BST\u001b[38;5;241m.\u001b[39minsert(\u001b[38;5;241m1\u001b[39m)\n\u001b[0;32m     41\u001b[0m my_BST\u001b[38;5;241m.\u001b[39minsert(\u001b[38;5;241m3\u001b[39m)\n",
      "\u001b[1;31mAttributeError\u001b[0m: 'BST' object has no attribute 'insert'"
     ]
    }
   ],
   "source": [
    "# Create a Node\n",
    "class Node:\n",
    "    def __init__(self, value):\n",
    "         self.value = value\n",
    "         self.left = None\n",
    "         self.right = None\n",
    "# Constructor\n",
    "class BST:\n",
    "     def __init__(self):\n",
    "          self.root = None\n",
    "\n",
    "# insert method\n",
    "\n",
    "     def insert (self,value):\n",
    "          new_node = Node(value)\n",
    "          if self.root is None:\n",
    "               self.root = new_node\n",
    "               return True\n",
    "          temp = self.root\n",
    "          while(True):\n",
    "               if new_node.value == temp.value:\n",
    "                    return False\n",
    "               if new_node.value < temp.value:\n",
    "                    if temp.left is None:\n",
    "                         temp.left = new_node\n",
    "                         return True\n",
    "                    temp = temp.left\n",
    "               else:\n",
    "                    if temp.right is None:\n",
    "                         temp.right = new_node\n",
    "                         return True\n",
    "                    temp = temp.right\n",
    "\n",
    "     \n",
    "\n",
    "\n",
    "\n",
    "my_BST  = BST()\n",
    "my_BST.insert(2)\n",
    "my_BST.insert(1)\n",
    "my_BST.insert(3)\n",
    "print(my_BST.root.value)\n",
    "print(my_BST.root.left.value)\n",
    "print(my_BST.root.right.value)\n",
    "\n"
   ]
  }
 ],
 "metadata": {
  "kernelspec": {
   "display_name": "Python 3",
   "language": "python",
   "name": "python3"
  },
  "language_info": {
   "codemirror_mode": {
    "name": "ipython",
    "version": 3
   },
   "file_extension": ".py",
   "mimetype": "text/x-python",
   "name": "python",
   "nbconvert_exporter": "python",
   "pygments_lexer": "ipython3",
   "version": "3.12.4"
  }
 },
 "nbformat": 4,
 "nbformat_minor": 2
}
