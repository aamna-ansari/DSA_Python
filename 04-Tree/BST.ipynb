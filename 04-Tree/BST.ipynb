{
 "cells": [
  {
   "cell_type": "code",
   "execution_count": 1,
   "metadata": {},
   "outputs": [
    {
     "name": "stdout",
     "output_type": "stream",
     "text": [
      "None\n"
     ]
    }
   ],
   "source": [
    "# Create a Node\n",
    "class Node:\n",
    "    def __init__(self, value):\n",
    "         self.value = value\n",
    "         self.left = None\n",
    "         self.right = None\n",
    "# Constructor\n",
    "class BST:\n",
    "     def __init__(self):\n",
    "          self.root = None\n",
    "\n",
    "my_BST  = BST()\n",
    "print(my_BST.root)\n",
    "\n"
   ]
  }
 ],
 "metadata": {
  "kernelspec": {
   "display_name": "Python 3",
   "language": "python",
   "name": "python3"
  },
  "language_info": {
   "codemirror_mode": {
    "name": "ipython",
    "version": 3
   },
   "file_extension": ".py",
   "mimetype": "text/x-python",
   "name": "python",
   "nbconvert_exporter": "python",
   "pygments_lexer": "ipython3",
   "version": "3.12.4"
  }
 },
 "nbformat": 4,
 "nbformat_minor": 2
}
